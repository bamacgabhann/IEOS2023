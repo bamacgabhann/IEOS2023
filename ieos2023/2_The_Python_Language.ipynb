{
 "cells": [
  {
   "cell_type": "markdown",
   "id": "962f3a46-433c-4586-a53c-26b9a24c14cc",
   "metadata": {},
   "source": [
    "<a href=\"https://colab.research.google.com/github/bamacgabhann/IEOS2023/blob/main/ieos2023/2_The_Python_Language.ipynb\" target=\"_parent\"><img src=\"https://colab.research.google.com/assets/colab-badge.svg\" alt=\"Open In Colab\"/></a>"
   ]
  },
  {
   "cell_type": "markdown",
   "id": "aa74d812-fbac-4bba-8e46-db6476ec6a2d",
   "metadata": {},
   "source": [
    "# The Python language\n",
    "\n",
    "## 1. Modules\n",
    "\n",
    "When you install python, you're installing what's called the Standard Library - the basic set of tools which comprises the python language (https://docs.python.org/3/library/index.html).\n",
    "\n",
    "But that's not where the power of python lies. Rather, the power lies in the numerous packages - over 300,000 on PyPI - which have already been written for python, for everything from the simplest operations all the way to machine learning and AI.\n",
    "\n",
    "When you open a python file or a Jupyter Notebook, you can write some simple code. But even most of the Standard Library isn't loaded by default - only the subset referred to as the built-in functions (https://docs.python.org/3/library/functions.html). Loading elements requires memory, so to keep memory use low, you only bring in what's needed. So the first part of virtually every python file is doing just that, via import statements.\n",
    "\n",
    "For example, to work with dates and times, we need the datetime module."
   ]
  },
  {
   "cell_type": "code",
   "execution_count": null,
   "id": "38b62443-d79f-4fa1-b6f2-5d61968da276",
   "metadata": {},
   "outputs": [],
   "source": [
    "import datetime\n",
    "datetime.datetime.now()"
   ]
  },
  {
   "cell_type": "markdown",
   "id": "38fdbd88-b786-4554-800d-18f4751afbca",
   "metadata": {},
   "source": [
    "If we only need that one function though, it's even inefficient to import the entire datetime module. So we can import only what we need:"
   ]
  },
  {
   "cell_type": "code",
   "execution_count": null,
   "id": "6dbf2b37-7e80-402e-bb8e-0e1e8dea50ab",
   "metadata": {},
   "outputs": [],
   "source": [
    "from datetime import datetime\n",
    "datetime.now()"
   ]
  },
  {
   "cell_type": "markdown",
   "id": "977ede38-174c-46ae-acfc-1173b631ff0d",
   "metadata": {},
   "source": [
    "We can also alias imports, to save writing out full names all the time."
   ]
  },
  {
   "cell_type": "code",
   "execution_count": null,
   "id": "0eac3a8b-91d9-4441-9779-4e8e19961daf",
   "metadata": {},
   "outputs": [],
   "source": [
    "from datetime import datetime as dt\n",
    "dt.now()"
   ]
  },
  {
   "cell_type": "markdown",
   "id": "c66da72b-95a2-4662-88e4-ce05b1c578f0",
   "metadata": {},
   "source": [
    "## 2. Variables\n",
    "\n",
    "To understand why Python is such a powerful language, you have to understand something of programming languages. \n",
    "\n",
    "Classic, old-school languages like FORTRAN - which my mother used in the 1970s - are _compiled_ languages. There's still a lot of these around - FORTRAN is still there, albeit rare, as is PASCAL; C is the basis of much of modern computer architecture, with the C++ and C# variants; there's even new compiled languages, for example Rust, which will probably be my next language. \n",
    "\n",
    "Compiled languages take the code you have written and translate it to machine-readable byte code before you can run it. This compilation is heavily dependant on machine architecture and operating system - which is why you have different versions of software for PC, Mac, and Linux. \n",
    "\n",
    "The benefit of compiling code is that it's fast.\n",
    "\n",
    "The disadvantage is that you have to be very specific about everything: for example, if you want a variable, you have to specify what kind of data it will hold, and how much memory it will take up. This means compiled languages are generally not particularly user-friendly.\n",
    "\n",
    "Python is a _dynamic_ language - it's not compiled. Instead, when you run a python script, it is passed to the Python Interpreter (which is written and compiled in C), which translates the code and runs it. This intermediate step means you have a lot more latitude. You can assign variables, change their type, change their size - and the interpreter will deal with all the management.\n",
    "\n",
    "You can assign variables with the ```=``` sign:"
   ]
  },
  {
   "cell_type": "code",
   "execution_count": null,
   "id": "5323bb3a-7e4c-45b6-b9ff-efb1993769a9",
   "metadata": {},
   "outputs": [],
   "source": [
    "a = 5\n",
    "print(a)"
   ]
  },
  {
   "cell_type": "markdown",
   "id": "55ef9d53-50c3-4003-9c89-7af5daf899da",
   "metadata": {},
   "source": [
    "and change them, if you want:"
   ]
  },
  {
   "cell_type": "code",
   "execution_count": null,
   "id": "cba821a2-7525-4166-9997-dd56ae594c4d",
   "metadata": {},
   "outputs": [],
   "source": [
    "a = dt.now()\n",
    "print(a)"
   ]
  },
  {
   "cell_type": "markdown",
   "id": "53a528c3-fbbe-4bec-bb43-5f4ceb0b38e5",
   "metadata": {},
   "source": [
    "## 3. Functions\n",
    "\n",
    "Functions are code that takes a piece of data and does something to it. ```dt.now()```, for example, is a function that takes the current date and time from the system, and returns it. We can also define functions:"
   ]
  },
  {
   "cell_type": "code",
   "execution_count": null,
   "id": "a1dbc005-1958-43f5-b3e9-81d8627c68e7",
   "metadata": {},
   "outputs": [],
   "source": [
    "def add_5(x):\n",
    "    x = x + 5\n",
    "    return x\n",
    "\n",
    "a = 5\n",
    "\n",
    "b = add_5(a)\n",
    "\n",
    "print(b)"
   ]
  },
  {
   "cell_type": "markdown",
   "id": "a6aeb1b0-24e8-447c-ae78-dae01170441d",
   "metadata": {},
   "source": [
    "This funtion _returns_ a value - note that it does not modify the value of the variable a"
   ]
  },
  {
   "cell_type": "code",
   "execution_count": null,
   "id": "dcf286e1-a036-4814-9dea-76a8f2ed6eb1",
   "metadata": {},
   "outputs": [],
   "source": [
    "print(a)"
   ]
  },
  {
   "cell_type": "markdown",
   "id": "bb6232dc-cb62-43ed-94b8-0cf5cc5dae53",
   "metadata": {},
   "source": [
    "## 4. Scope\n",
    "\n",
    "It's possible to write a function which _does_ modify an existing variable, but only in some specific cases. Usually, even specifically referencing a variable inside a function doesn't make a difference:"
   ]
  },
  {
   "cell_type": "code",
   "execution_count": null,
   "id": "af7cfb0a-bc08-4d6a-a681-3098647b6843",
   "metadata": {},
   "outputs": [],
   "source": [
    "def change_a():\n",
    "    a = 7\n",
    "\n",
    "change_a()\n",
    "\n",
    "print(a)"
   ]
  },
  {
   "cell_type": "markdown",
   "id": "76fadd95-61c7-46cb-bc07-90c1d42cb1f6",
   "metadata": {},
   "source": [
    "This is because of a concept called _scope_. Variables all have a scope. Global variables are known throughout a program. Local variables might be confined to a single module. Function variables exist only within the scope of a function. In the example above, the assignment ```a = 7``` creates a variable a which exists only within the function itself - it does not exist outside the function, so it does not affect the global variable a, even though they appear to have the same name."
   ]
  },
  {
   "cell_type": "markdown",
   "id": "636824f3-d8c2-48c3-af14-a4d0d4c96cdd",
   "metadata": {},
   "source": [
    "## 5. Classes\n",
    "\n",
    "In our example above, our first import was ```import datetime```.\n",
    "\n",
    "This imports the module called ```datetime```, which is part of the standard library.\n",
    "\n",
    "As part of the import, this imports a class, which is also called datetime. In our second example, ```from datetime import datetime```, we imported only this class.\n",
    "\n",
    "You can think of classes as objects, which have properties stored as variables, and actions which are functions. \n",
    "\n",
    "For example, we could define a class for rectangles. When defining a class, you can pass values to it, and define a special method called ```__init__()``` which runs automatically when the class is used to create an object."
   ]
  },
  {
   "cell_type": "code",
   "execution_count": null,
   "id": "a1617b4c-2525-46bf-a289-e90137d6fb64",
   "metadata": {},
   "outputs": [],
   "source": [
    "class Rectangle:\n",
    "    def __init__(self, a, b):\n",
    "        self.length = max(a,b)\n",
    "        self.width = min(a,b)"
   ]
  },
  {
   "cell_type": "code",
   "execution_count": null,
   "id": "25a045ce-8a86-40cd-9169-ca5897f75886",
   "metadata": {},
   "outputs": [],
   "source": [
    "shape1 = Rectangle(4, 5)\n",
    "print(shape1.length)"
   ]
  },
  {
   "cell_type": "markdown",
   "id": "7fc1a453-d948-49c6-85eb-7d7ab5b63078",
   "metadata": {},
   "source": [
    "The class itself is ```Rectangle```. The object ```shape1``` is an _instance_ of this class. We could add other instances:"
   ]
  },
  {
   "cell_type": "code",
   "execution_count": null,
   "id": "a127a3fe-6f28-4c72-a518-11bcac88d8fb",
   "metadata": {},
   "outputs": [],
   "source": [
    "shape2 = Rectangle(7,9)\n",
    "print(shape2.length)"
   ]
  },
  {
   "cell_type": "markdown",
   "id": "644d98b4-1ee6-4eeb-b2df-c3a6d9752b42",
   "metadata": {},
   "source": [
    "This class just stores the length and width, after figuring out which of the sides is the larger, but say we want to store the area as a property. We can define a function to do this. A quirk of the language: inside a class, functions are referred to as class _methods_."
   ]
  },
  {
   "cell_type": "code",
   "execution_count": null,
   "id": "4170d8d8-d179-4708-b36a-2fdaff7152cd",
   "metadata": {},
   "outputs": [],
   "source": [
    "class Rectangle:\n",
    "    def __init__(self, a, b):\n",
    "        self.length = max(a,b)\n",
    "        self.width = min(a,b)\n",
    "\n",
    "    def calc_area(self):\n",
    "        self.area = self.length * self.width\n",
    "\n",
    "shape1 = Rectangle(4, 5)\n",
    "shape1.calc_area()\n",
    "print(shape1.area)"
   ]
  },
  {
   "cell_type": "markdown",
   "id": "ffe25b95-00dc-4f7e-80ee-b565c4819b81",
   "metadata": {},
   "source": [
    "Notice that here, we didn't pass any arguments to the method, nor did it return a value. Instead, it modified the variable ```shape1.area``` _in place_ - because the definition of the method took ```self``` as an argument - in other words, it applies that method to the class instance itself."
   ]
  },
  {
   "cell_type": "markdown",
   "id": "c0447119-d914-4164-b29d-10b70ce84dda",
   "metadata": {},
   "source": [
    "We can also define _subclasses_, which are just classes, but which inheret properties from the parent class. For example:"
   ]
  },
  {
   "cell_type": "code",
   "execution_count": null,
   "id": "75543391-9465-4f80-9d89-d8b6fe851817",
   "metadata": {},
   "outputs": [],
   "source": [
    "class Square(Rectangle):\n",
    "    def __init__(self, a):\n",
    "        super().__init__(a, a)"
   ]
  },
  {
   "cell_type": "code",
   "execution_count": null,
   "id": "2aa49f5e-ae2d-4b73-82bb-cf93dc48640e",
   "metadata": {},
   "outputs": [],
   "source": [
    "shape3 = Square(4)\n",
    "\n",
    "shape3.calc_area()\n",
    "print(shape3.area)"
   ]
  },
  {
   "cell_type": "markdown",
   "id": "825126c4-43b7-4c3a-8e13-39ae2c743aab",
   "metadata": {},
   "source": [
    "Note how I only declared one length while creating shape3, rather than two: because the super().__init__() inheritance function used a twice, instead of taking a and a different b. But I also didn't have to define ```calc_area``` again - I was able to simply use the method from the Rectangle class, because my Square class is just a variant of my Rectangle class."
   ]
  },
  {
   "cell_type": "markdown",
   "id": "65ba3f0a-7342-4441-b6cb-f551e03735d4",
   "metadata": {},
   "source": [
    "## 6. Flow\n",
    "\n",
    "Once we have variables, we can do things with them. For example, we can compare values:"
   ]
  },
  {
   "cell_type": "code",
   "execution_count": null,
   "id": "f2484f97-5cbb-4bd2-b9fe-4160864cbcfb",
   "metadata": {},
   "outputs": [],
   "source": [
    "shape3.area > shape1.area"
   ]
  },
  {
   "cell_type": "markdown",
   "id": "f603e1de-ab89-442b-bf59-10362b4a867d",
   "metadata": {},
   "source": [
    "Because this is a straight comparison, it returns a boolean: true or false. We can also use this in a conditional:"
   ]
  },
  {
   "cell_type": "code",
   "execution_count": null,
   "id": "482ac93b-05ea-402e-b8e4-d7ae52e5cf1f",
   "metadata": {},
   "outputs": [],
   "source": [
    "if shape3.area > shape1.area:\n",
    "    print(\"shape 3 is bigger\")"
   ]
  },
  {
   "cell_type": "markdown",
   "id": "9239cc38-4565-4115-91a6-fa9f13e98bf6",
   "metadata": {},
   "source": [
    "Nothing happened there because shape 3 _isn't_ bigger. We can account for that:"
   ]
  },
  {
   "cell_type": "code",
   "execution_count": null,
   "id": "7c959ce8-2ec1-42c3-913f-3b829920d83b",
   "metadata": {},
   "outputs": [],
   "source": [
    "if shape3.area > shape1.area:\n",
    "    print(\"shape 3 is bigger\")\n",
    "\n",
    "else:\n",
    "    print(\"shape 1 is bigger\")"
   ]
  },
  {
   "cell_type": "code",
   "execution_count": null,
   "id": "0f40797d-69fa-4953-9e0a-6bccc1360c8a",
   "metadata": {},
   "outputs": [],
   "source": []
  },
  {
   "cell_type": "markdown",
   "id": "a0f2a932-406b-41a6-88bd-d075c3f51f07",
   "metadata": {},
   "source": [
    "```If``` statements are one example of flow control. Another is while loops. For example, we can repeat calculations until a certain variable reaches a particular value:"
   ]
  },
  {
   "cell_type": "code",
   "execution_count": null,
   "id": "8042b4df-6459-40ce-b084-d4cdcee1c2f5",
   "metadata": {},
   "outputs": [],
   "source": [
    "area = 0\n",
    "n = 0\n",
    "while area<30:\n",
    "    square = Square(n)\n",
    "    square.calc_area()\n",
    "    area = square.area\n",
    "    n = n+1\n",
    "\n",
    "print(area)"
   ]
  },
  {
   "cell_type": "markdown",
   "id": "df0c7f12-1c5f-4b41-a3e5-30727e1e4fcb",
   "metadata": {},
   "source": [
    "There's also ```for```, which is particularly useful combined with the range function:"
   ]
  },
  {
   "cell_type": "code",
   "execution_count": null,
   "id": "0e0f91bb-07cb-4720-8066-b05d04ada19b",
   "metadata": {},
   "outputs": [],
   "source": [
    "for i in range(30):\n",
    "    square = Square(i)\n",
    "    square.calc_area()\n",
    "    print(f\"The area of a square side length {i} is {square.area}\")"
   ]
  },
  {
   "cell_type": "markdown",
   "id": "feda880c-8c7f-45b7-931b-f47cb7e654b0",
   "metadata": {},
   "source": [
    "Now, note two things here. FIrst, range(30) started at 0 and went up to 29. This is how numbers work in many aspects of python - indexes start at 0, not 1, and usually go up to n-1 for the number you type in. So list[4] is the _fifth_ item of a list, not the fourth, because there's also list[0], list[1], list[2], and list[3]. \n",
    "\n",
    "Second, I did something fancy in the print() statement. I've used print() a few times, to output a result, but this is the first time I've used an f-string. This formatting allows you to insert variables into a text string. This isn't just for print statements - anywhere you have a text string, you can use this formatting. Simply open with f\" rather than just \", and you can put variables in braces within the string: {}."
   ]
  },
  {
   "cell_type": "code",
   "execution_count": null,
   "id": "c9a22334-fd24-483b-baa8-d6895f4d3f6c",
   "metadata": {},
   "outputs": [],
   "source": []
  }
 ],
 "metadata": {
  "kernelspec": {
   "display_name": "IEOS",
   "language": "python",
   "name": "ieos"
  },
  "language_info": {
   "codemirror_mode": {
    "name": "ipython",
    "version": 3
   },
   "file_extension": ".py",
   "mimetype": "text/x-python",
   "name": "python",
   "nbconvert_exporter": "python",
   "pygments_lexer": "ipython3",
   "version": "3.11.6"
  }
 },
 "nbformat": 4,
 "nbformat_minor": 5
}
