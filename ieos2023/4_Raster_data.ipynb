{
 "cells": [
  {
   "cell_type": "markdown",
   "id": "8de20ad5-b466-4a62-a67a-b03c6290af9b",
   "metadata": {},
   "source": [
    "[![Binder](https://mybinder.org/badge_logo.svg)](https://mybinder.org/v2/gh/bamacgabhann/IEOS2023/main?labpath=ieos2023%2F4_Raster_data.ipynb)"
   ]
  },
  {
   "cell_type": "markdown",
   "id": "d0b8c826-d697-4a99-a235-cc32f3f1f762",
   "metadata": {},
   "source": [
    "# Raster Data\n",
    "\n",
    "For Vector data, we saw how numpy or arrow arrays are used to store vector coordinates and attributes.\n",
    "\n",
    "In Raster data, we're dealing with not with points or lines or polygons, but with pixels, each of which covers a particular area. We don't define the coordinates of each pixel individually, but rather define the coordinates of the overall set of pixels which make up an image. So, in that sense, raster data is a very different data format. \n",
    "\n",
    "However, raster pixels wouldn't be of interest to us unless they contain data. That data could be the elevation of the land surface, red/green/blue colour values for a photograph, infrared bands, radar reflectance, temperatures...really, any kind of data which can vary heterogenously over an area. That data is numbers - numbers which can be stored in arrays, like numpy or arrow arrays. \n",
    "\n",
    "Just as GeoPandas provides the functionality to work with vector data stored in arrays, _Rasterio_ and _GDAL_ provide the functionality to work with raster data stored in arrays. So while the data format is different, there are strong comparisons in how the data is managed.\n",
    "\n",
    "There are other libraries which depend on other array formats, but rasterio is still the most feature-complete library that I'm aware of.\n",
    "\n",
    "This Notebook exercise is minimally adapted from the Raster tutorial in *Michael Dorman's _<a href='https://geobgu.xyz/presentations/p_2023_ogh/02-raster.html'>Working with Spatial Data in Python</a>_*.\n",
    "\n",
    "Let's open some data."
   ]
  },
  {
   "cell_type": "markdown",
   "id": "6182ac92-a104-488b-9293-8d61543abc9a",
   "metadata": {},
   "source": [
    "## 1. Reading data"
   ]
  },
  {
   "cell_type": "code",
   "execution_count": null,
   "id": "87f0e63a-02ce-4c45-a2da-2f4184141a9a",
   "metadata": {},
   "outputs": [],
   "source": [
    "import matplotlib.pyplot as plt\n",
    "import numpy as np\n",
    "import geopandas as gpd\n",
    "import rasterio\n",
    "import rasterio.plot\n",
    "import rasterio.mask"
   ]
  },
  {
   "cell_type": "code",
   "execution_count": null,
   "id": "7c9e9241-2c88-4e4a-921f-677114a43f80",
   "metadata": {},
   "outputs": [],
   "source": [
    "f02 = '../sample_data/HLS.S30.T33UXU.2022200T095559.v2.0.B02.tiff'\n",
    "b02 = rasterio.open(f02)\n",
    "b02"
   ]
  },
  {
   "cell_type": "markdown",
   "id": "8956f380-5a84-40dc-ada2-6b795e6c7d15",
   "metadata": {},
   "source": [
    "This is tile ID T33UXU from 2022-07-19, from the 30m resolution Harmonized Landsat Sentinel-2 (HLS) Surface Reflecance product.\n",
    "\n",
    "The 'r' refers to 'reading mode'; if we were creating the file, we'd use 'w' for 'writing mode'."
   ]
  },
  {
   "cell_type": "code",
   "execution_count": null,
   "id": "c900829a-48b4-4edf-ace0-620093e1a7e8",
   "metadata": {},
   "outputs": [],
   "source": [
    "b02.meta"
   ]
  },
  {
   "cell_type": "markdown",
   "id": "ddea6e06-c207-49af-82cb-4e2234566ce1",
   "metadata": {},
   "source": [
    "So our image is a 16-bit tiff (refer back to Data Types if you're not sure what that means). Note the count is 1 - this is just a single band."
   ]
  },
  {
   "cell_type": "code",
   "execution_count": null,
   "id": "dadbc81d-4dd2-400c-8c3b-1bb498ec335b",
   "metadata": {},
   "outputs": [],
   "source": [
    "r02 = b02.read()\n",
    "r02"
   ]
  },
  {
   "cell_type": "markdown",
   "id": "d17babfb-f153-4026-8628-f1343a825ef1",
   "metadata": {},
   "source": [
    "Here, we can see the actual data making up the image. 16-bits means the values can range from -32768 to 32767."
   ]
  },
  {
   "cell_type": "code",
   "execution_count": null,
   "id": "26856c4b-771d-417f-83cf-c430f8d51665",
   "metadata": {},
   "outputs": [],
   "source": [
    "type(r02)"
   ]
  },
  {
   "cell_type": "markdown",
   "id": "00709c15-1b4a-4b59-ae3f-e1ef07bd6cfb",
   "metadata": {},
   "source": [
    "And there you get comfirmation that, just like vector data with GeoPandas, this data for this raster is a numpy array."
   ]
  },
  {
   "cell_type": "code",
   "execution_count": null,
   "id": "48c0d4e8-b36e-42db-9bf2-7198a3a465b3",
   "metadata": {},
   "outputs": [],
   "source": [
    "rasterio.plot.show(b02, cmap='Greys_r')"
   ]
  },
  {
   "cell_type": "markdown",
   "id": "2e20dc59-bce3-4ea1-a189-82860e7c1841",
   "metadata": {},
   "source": [
    "## 2. Writing data\n",
    "\n",
    "This is just one band: we have 3 others. Let's put them together. To do this, we're going to create a new file with a count of 4 - but otherwise the metadata will be the same as for this single band. So we'll copy that metadata, and just update the count."
   ]
  },
  {
   "cell_type": "code",
   "execution_count": null,
   "id": "67c07fe0-121a-40d3-ab10-3c66623a2653",
   "metadata": {},
   "outputs": [],
   "source": [
    "meta = b02.meta\n",
    "meta.update(count=4)\n",
    "meta"
   ]
  },
  {
   "cell_type": "markdown",
   "id": "11a9a8e2-04da-4096-b54a-914879ebbab5",
   "metadata": {},
   "source": [
    "Count updated. Now let's add the other bands, so we can add them all:"
   ]
  },
  {
   "cell_type": "code",
   "execution_count": null,
   "id": "85f31e86-81ca-4864-9178-1bbea002ccbf",
   "metadata": {},
   "outputs": [],
   "source": [
    "f03 = '../sample_data/HLS.S30.T33UXU.2022200T095559.v2.0.B03.tiff'\n",
    "f04 = '../sample_data/HLS.S30.T33UXU.2022200T095559.v2.0.B04.tiff'\n",
    "f08 = '../sample_data/HLS.S30.T33UXU.2022200T095559.v2.0.B08.tiff'"
   ]
  },
  {
   "cell_type": "code",
   "execution_count": null,
   "id": "9816ccaa-1006-4f59-8620-495ecec13ab4",
   "metadata": {},
   "outputs": [],
   "source": [
    "with rasterio.open('hls.tif', 'w', **meta) as hls:\n",
    "    files = [f02, f03, f04, f08]\n",
    "    for index, file in enumerate(files, start=1):\n",
    "        b = rasterio.open(file)\n",
    "        hls.write(b.read(1), index)\n",
    "        b.close()\n"
   ]
  },
  {
   "cell_type": "code",
   "execution_count": null,
   "id": "29c45d4a-5821-479a-ab4a-9c834cd7f99d",
   "metadata": {},
   "outputs": [],
   "source": [
    "hls = rasterio.open('hls.tif')\n",
    "hls.meta"
   ]
  },
  {
   "cell_type": "code",
   "execution_count": null,
   "id": "5a4a0716-7793-4d82-a2ad-a4459b23f005",
   "metadata": {},
   "outputs": [],
   "source": [
    "r = hls.read()\n",
    "r"
   ]
  },
  {
   "cell_type": "markdown",
   "id": "c3f4b120-07cf-4940-9344-8e400d7ead9c",
   "metadata": {},
   "source": [
    "## 3. Processing raster data\n",
    "\n",
    "r is now an array with four bands. However, there's two problems. \n",
    "\n",
    "The first is that if we look again at the meta information, we'll see that there's a 'nodata' value of -9999. That's common practice - but numpy doesn't know that, so any calculations on the array will produce some wrong data unless we change it.\n",
    "\n",
    "The second is that the data is reflectance, which should be between 0 (no reflectance) and 1 (total reflectance). But data in the file is being stored as 16-bit integers to save space - and that's been achieved by multiplying the real values by 1,000. We need to reverse that to use the data properly. That means first changing the data type to _float_.\n",
    "\n",
    "Fortunately, the hard part is understanding this. Doing it is easy."
   ]
  },
  {
   "cell_type": "code",
   "execution_count": null,
   "id": "a05fc2d7-5a1a-453b-bd44-76458b3972de",
   "metadata": {},
   "outputs": [],
   "source": [
    "hls.nodata"
   ]
  },
  {
   "cell_type": "code",
   "execution_count": null,
   "id": "0252952b-756e-4bb5-842c-5cc5191de2cf",
   "metadata": {},
   "outputs": [],
   "source": [
    "r[r == hls.nodata]"
   ]
  },
  {
   "cell_type": "markdown",
   "id": "21da96f7-6d20-4f40-9778-3f74e685a4a5",
   "metadata": {},
   "source": [
    "this code shows the array r, limited to where r has the nodata value."
   ]
  },
  {
   "cell_type": "code",
   "execution_count": null,
   "id": "56e238c0-2dd8-41e9-8831-e535825c3ea8",
   "metadata": {},
   "outputs": [],
   "source": [
    "r.dtype"
   ]
  },
  {
   "cell_type": "markdown",
   "id": "4151b872-1d17-4f0d-80c9-779a6a61433c",
   "metadata": {},
   "source": [
    "That confirms the data type. We will change that first:"
   ]
  },
  {
   "cell_type": "code",
   "execution_count": null,
   "id": "12ab017e-dbc0-4453-ab7f-047c8d76b9a9",
   "metadata": {},
   "outputs": [],
   "source": [
    "r = r.astype(np.float_)\n",
    "r"
   ]
  },
  {
   "cell_type": "code",
   "execution_count": null,
   "id": "22ac44ef-f57b-4971-85b3-276ced422d68",
   "metadata": {},
   "outputs": [],
   "source": [
    "r.dtype"
   ]
  },
  {
   "cell_type": "markdown",
   "id": "3e29d80d-4526-4202-a6c8-aa0935d6bfa9",
   "metadata": {},
   "source": [
    "Now our array is stored as 64-bit floating point numbers.\n",
    "\n",
    "Here's a quirk of numpy; it can't deal with values which aren't numbers in arrays of integers. We actually saw this all the way back at the start of the data types notebook, when we made a pandas series with an NA, and it returned a dtype of object. However, numpy _can_ deal with NaN (not a number) values in float dtype arrays. \n",
    "\n",
    "_Side note: this is an example of why the arrow format is replacing numpy arrays - it has been designed to avoid the problems like this in numpy. GeoArrow is still in development, and it can't come fast enough for me._"
   ]
  },
  {
   "cell_type": "code",
   "execution_count": null,
   "id": "611e9208-87e3-46de-9aa8-c23d4c953fa9",
   "metadata": {},
   "outputs": [],
   "source": [
    "r[r == hls.nodata]"
   ]
  },
  {
   "cell_type": "markdown",
   "id": "ed891d4b-0371-4a4a-b661-ef39a463698b",
   "metadata": {},
   "source": [
    "Still works, because the values haven't changed, just how they're stored. But now we can change this:"
   ]
  },
  {
   "cell_type": "code",
   "execution_count": null,
   "id": "0d20e006-84ab-40f9-a2a6-c09c12a679c2",
   "metadata": {},
   "outputs": [],
   "source": [
    "r[r == hls.nodata] = np.nan\n",
    "r[r == hls.nodata]"
   ]
  },
  {
   "cell_type": "markdown",
   "id": "343613aa-e523-4877-825d-f90d54e8bf5e",
   "metadata": {},
   "source": [
    "No more -999 values! Now we can rescale:"
   ]
  },
  {
   "cell_type": "code",
   "execution_count": null,
   "id": "069244ba-e7e2-4f75-a937-3672d5e9af2c",
   "metadata": {},
   "outputs": [],
   "source": [
    "r = r * 0.0001\n",
    "r"
   ]
  },
  {
   "cell_type": "markdown",
   "id": "dc6493d8-c783-4c15-9dc7-fdf4fb713833",
   "metadata": {},
   "source": [
    "So that's great, but if we look at all the values, we can see that the processing has introduced a couple of errors:"
   ]
  },
  {
   "cell_type": "code",
   "execution_count": null,
   "id": "345494bc-ba10-4fc6-ae7a-0d2e66c7c89e",
   "metadata": {},
   "outputs": [],
   "source": [
    "np.nanmin(r), np.nanmax(r)"
   ]
  },
  {
   "cell_type": "markdown",
   "id": "01a8c4f5-62fe-44f2-88e7-0e7af45cb98e",
   "metadata": {},
   "source": [
    "Shouldn't have values above 1 or below 0. Fortunately, again it's easy to cut those:"
   ]
  },
  {
   "cell_type": "code",
   "execution_count": null,
   "id": "0c29dcd7-5859-46af-83ef-d0c0be766f09",
   "metadata": {},
   "outputs": [],
   "source": [
    "r[r < 0] = 0.0\n",
    "r[r > 1] = 1.0\n",
    "np.nanmin(r), np.nanmax(r)"
   ]
  },
  {
   "cell_type": "markdown",
   "id": "97f0702c-eea7-4bd0-b654-460a2fd8d44c",
   "metadata": {},
   "source": [
    "## 4. Working with bands\n",
    "\n",
    "We can extract particular data from the multiband raster using _slicing_.\n",
    "\n",
    "The array could be represented as ```r[bands, rows, columns]```. \n",
    "\n",
    "For each of bands, rows, and columns, we can specify a number or a range. We can specify a range by slicing using the ```:``` symbol, which in Python indicates all values. For example, ```3:``` means all values from 3 to the end, and ```:-1``` means all values except the last one. (Do remember - indices in Python start at 0, not 1; ```1:``` is not the whole list, ```0:``` is.)\n",
    "\n",
    "Here's how we would specify the first 3 bands, including all rows and columns of those bands:"
   ]
  },
  {
   "cell_type": "code",
   "execution_count": null,
   "id": "2da8ffc3-6548-4b3d-be14-7ba8aa1376ed",
   "metadata": {},
   "outputs": [],
   "source": [
    "r[:3, :, :]"
   ]
  },
  {
   "cell_type": "markdown",
   "id": "554d40e1-f5b7-4a36-8da4-0d29dd6c9f18",
   "metadata": {},
   "source": [
    "In fact, we don't need the ```:``` where it's not actually specifying a subset, so we can just do"
   ]
  },
  {
   "cell_type": "code",
   "execution_count": null,
   "id": "98936c79-0e3f-4fb3-89cd-1349e0ad5489",
   "metadata": {},
   "outputs": [],
   "source": [
    "r[:3]"
   ]
  },
  {
   "cell_type": "markdown",
   "id": "b5ae9eec-4a88-4d6c-ba2e-b1fe207842c3",
   "metadata": {},
   "source": [
    "This is bands 2, 3, and 4 - blue, green, and red. We can pass this array to matplotlib to plot it - but matplotlib is expecting the order R, G, B - not B, G, R. So we can reverse the band order:"
   ]
  },
  {
   "cell_type": "code",
   "execution_count": null,
   "id": "cd244021-2968-4aef-bcd5-de3bed2aeb70",
   "metadata": {},
   "outputs": [],
   "source": [
    "r[:3][::-1]"
   ]
  },
  {
   "cell_type": "markdown",
   "id": "6b14b084-af92-4286-bbd7-fef70318c0e1",
   "metadata": {},
   "source": [
    "Now lets plot that:"
   ]
  },
  {
   "cell_type": "code",
   "execution_count": null,
   "id": "f8393463-3a9f-47d2-af8c-5ccca5fbc614",
   "metadata": {},
   "outputs": [],
   "source": [
    "rasterio.plot.show(r[:3][::-1])"
   ]
  },
  {
   "cell_type": "markdown",
   "id": "073e1707-3b95-4149-b49a-f30b59e0f98d",
   "metadata": {},
   "source": [
    "Hmmm, that's pretty dark. ```rasterio.plot``` passes the array to matplotlib, which displays it on our 8-bit monitors by multiplying each value in the array by 255. If reflectance is low - which it is, since the Earth's surface isn't a mirror - then it's going to be dark.\n",
    "\n",
    "Again, easy fix - just specify a multiplier."
   ]
  },
  {
   "cell_type": "code",
   "execution_count": null,
   "id": "e25f2a9a-0628-4b6d-9605-69693641ef01",
   "metadata": {},
   "outputs": [],
   "source": [
    "rasterio.plot.show(r[:3][::-1]*5)"
   ]
  },
  {
   "cell_type": "markdown",
   "id": "1d99cf49-42d8-4016-80cd-102bb00c2760",
   "metadata": {},
   "source": [
    "The warning is because having an overall multiplier means that if we have any reflectance values above 0.2, for example"
   ]
  },
  {
   "cell_type": "code",
   "execution_count": null,
   "id": "b1210d96-ca9e-4c5c-bcd2-3a5e9e93049c",
   "metadata": {},
   "outputs": [],
   "source": [
    "0.25 * 255 * 5"
   ]
  },
  {
   "cell_type": "markdown",
   "id": "98ad73ab-8211-49b5-b986-45525130b8f1",
   "metadata": {},
   "source": [
    "they will now be above 255 - which means matplotlib can't show them in an 8-bit image. So it just sets those values to the max at 255. \n",
    "\n",
    "There are ways of applying brightness curves to images, in order that dark values are brightened, but already light values aren't, using complex formulas dependant on the brightness value. That's a bit beyond the scope here to explain those, but if you have a complex transformation of that kind it's easy to apply - just use it in place of the ```*5``` above.\n",
    "\n",
    "And we can do other calculations with the array as well:"
   ]
  },
  {
   "cell_type": "code",
   "execution_count": null,
   "id": "10c525eb-9144-4097-a610-5a8955209403",
   "metadata": {},
   "outputs": [],
   "source": [
    "rasterio.plot.show(((r[3] - r[2])/(r[3] + r[2])), cmap='Greens')"
   ]
  },
  {
   "cell_type": "markdown",
   "id": "7dddfdcf-8c66-42e7-84da-954b09f417b6",
   "metadata": {},
   "source": [
    "That's the NDVI. Let's save that:"
   ]
  },
  {
   "cell_type": "code",
   "execution_count": null,
   "id": "63bd5da1-4d79-406e-898b-4443abefa160",
   "metadata": {},
   "outputs": [],
   "source": [
    "meta.update(count=1, dtype=r.dtype, nodata=np.nan)\n",
    "meta"
   ]
  },
  {
   "cell_type": "code",
   "execution_count": null,
   "id": "fce4f86f-d84d-44a5-88d3-f1130d6bc0f9",
   "metadata": {},
   "outputs": [],
   "source": [
    "with rasterio.open('ndvi.tif', 'w', **meta) as ndvi:\n",
    "    ndvi.write(((r[3] - r[2])/(r[3] + r[2])), 1)"
   ]
  },
  {
   "cell_type": "markdown",
   "id": "b68c030f-1360-4b23-b9ac-a82cf8ed6a0d",
   "metadata": {},
   "source": [
    "## 5. Combining Vector and Raster Data\n",
    "\n",
    "Let's use geopandas to read a feather file extracted from osm data. We'll add the name of the feature, and reproject to the same crs as our raster data."
   ]
  },
  {
   "cell_type": "code",
   "execution_count": null,
   "id": "c118caf5-b53a-4156-9a7f-fad0dcdf7193",
   "metadata": {},
   "outputs": [],
   "source": [
    "osm = gpd.read_feather('../sample_data/osm.feather')\n",
    "osm = osm[osm['name'] == 'Port Lotniczy Poznań-Ławica im. Henryka Wieniawskiego']\n",
    "osm = osm.to_crs(hls.crs)\n",
    "osm"
   ]
  },
  {
   "cell_type": "markdown",
   "id": "5308dc9c-e379-4c1b-ac06-fffe0b41f264",
   "metadata": {},
   "source": [
    "Let's make a 1km buffer around the envelope (the smallest rectangle containing all features) of the airport:"
   ]
  },
  {
   "cell_type": "code",
   "execution_count": null,
   "id": "5cbda3de-4a57-4743-9321-35e7e0575a62",
   "metadata": {},
   "outputs": [],
   "source": [
    "buffer = osm.buffer(1000).envelope\n",
    "buffer"
   ]
  },
  {
   "cell_type": "code",
   "execution_count": null,
   "id": "2462d01a-3af6-45d4-b627-c83a9cc869a2",
   "metadata": {},
   "outputs": [],
   "source": [
    "map = buffer.explore()\n",
    "osm.explore(m=map, color='red')"
   ]
  },
  {
   "cell_type": "markdown",
   "id": "556927a4-7de2-4b0f-84e6-7148eab15e8b",
   "metadata": {},
   "source": [
    "Nice, right? We didn't do that before. That's using the library _Folium_ which produces interactive plots. I'm quite certain you've unknowingly used Folium plots before - it's commonly used for web maps.\n",
    "\n",
    "Now, it would be nice to show this on top of our raster. We wouldn't want the whole raster though, it's too big. But we could crop it to our buffer.\n",
    "\n",
    "<a href='https://rasterio.readthedocs.io/en/latest/api/rasterio.mask.html'>```rasterio.mask.mask()```</a> takes:\n",
    " - a raster which will be masked (opened in 'r' mode)\n",
    " - a vector shape or shapes which will be the mask layer\n",
    "and some optional arguments, including\n",
    " - whether to mask or crop the raster\n",
    " - any values to use for no data\n",
    "\n",
    "This is the tricky part about geospatial python. Not masking, I mean knowing that you can use rasterio.mask.mask()``` to mask or crop a raster. There's so much out there, and there's really no shortcuts. I suggest lots of googling \"python clip raster\" or the equivalent for whatever you want to do - you won't be the first to wonder. Read the StackOverflow answers, and read other people's code,  in time you'll get to know (a) the functions you use regularly, and (b) where to find the functions you don't use often. Honestly, if I've made it this far through the workshop without googling anything, it's a minor miracle."
   ]
  },
  {
   "cell_type": "code",
   "execution_count": null,
   "id": "a5b33c3a-e5a3-490a-9fb5-696e68d26fd9",
   "metadata": {},
   "outputs": [],
   "source": [
    "ndvi = rasterio.open('ndvi.tif')\n",
    "(ndvi_crop, cropped_transform) = rasterio.mask.mask(ndvi, buffer, crop=True, nodata=np.nan)\n",
    "ndvi_crop"
   ]
  },
  {
   "cell_type": "markdown",
   "id": "2c5d1449-c378-4334-90dd-e06666dd8160",
   "metadata": {},
   "source": [
    "```rasterio.mask.mask()``` returns a tuple: ```(the image, the transform)```, so we specified a tuple with names, which lets us use the names for the individual parts of the tuple."
   ]
  },
  {
   "cell_type": "code",
   "execution_count": null,
   "id": "75b7931a-0172-4b85-ae6d-26b8596efaaa",
   "metadata": {},
   "outputs": [],
   "source": [
    "fig, ax = plt.subplots()\n",
    "rasterio.plot.show(ndvi_crop, transform=cropped_transform, cmap='Greens', ax=ax)\n",
    "osm.plot(ax=ax, edgecolor='red', linewidth=1, color='none')"
   ]
  },
  {
   "cell_type": "markdown",
   "id": "62d7cb4f-0155-4032-8313-caf3215d5c87",
   "metadata": {},
   "source": [
    "Okay, so that's a taste of working with raster data in Python. As I said, there's a huge amout out there, and this is really just barely scratching the surface, but hopefully it's a demonstration that what can be done in GIS can be done in Python, often much more easily. And even if it takes you longer because you have to learn how to do everything, it's definitely quicker if you have to repeat the process, because next time, the code's already there and just needs to be run."
   ]
  },
  {
   "cell_type": "markdown",
   "id": "d93360f6-86d8-4744-88b5-5769114aac41",
   "metadata": {},
   "source": [
    "## 6. Raster Data in the Cloud\n",
    "\n",
    "We absolutely don't have time for this now, but as we are probably all aware, processing of raster data now is massively moving into the cloud, with Google Earth Engine, Microsoft Planetary Computer, and others. Earth Engine's native interface is in javascript\n",
    "\n",
    "![display image](https://media.giphy.com/media/tw1zMQrM2IhC8/giphy.gif)\n",
    "\n",
    "but fear not! There is an _excellent_ python library, <a href='https://geemap.org/'>geemap</a>, with <a href='https://github.com/giswqs/earthengine-py-notebooks'>literally hundreds of example notebooks on github</a>, which, like this one, can all be run in Binder. \n",
    "\n",
    "![display image](https://media.giphy.com/media/s5igVaatNXUVW/giphy.gif)"
   ]
  },
  {
   "cell_type": "markdown",
   "id": "c955f47c-5e8e-46df-b95f-5654526190ed",
   "metadata": {},
   "source": [
    "## 7. Earth Observation Data Visualisation\n",
    "\n",
    "When it comes to visualising the data, matplotlib is capable, but needs a lot of finesse to get it the way you'd want for EO, because it's simply not what it was written for. Folium is great for the interactivity, and was written for geospatial data, but it's more for web map style viewing. If you're thinking \"hey, it sure would be nice if there was something written specifically for EO data\", then\n",
    "\n",
    "![display image](https://media.giphy.com/media/3zFcbgHoIXzykQc7vU/giphy.gif)\n",
    "\n",
    "The excellent package <a href='https://github.com/raphaelquast/eomaps'>EOmaps</a> has indeed been written specifically for visualising and working with remote sensing imagery. It's highly interactive, but in a different way than Folium, allowing you to use the interactivity to help analyse your data. There are plenty of great examples on the package github repository with code you can copy - and I highly recommend it. "
   ]
  },
  {
   "cell_type": "markdown",
   "id": "1a629b58-4930-420c-87a5-99f2b3593a69",
   "metadata": {},
   "source": [
    "# The End\n",
    "\n",
    "Hopefully you've found this workshop useful - it's over to you now!"
   ]
  },
  {
   "cell_type": "markdown",
   "id": "be5a5e32-905b-496d-b96a-c0d63458c2ac",
   "metadata": {},
   "source": [
    "___\n",
    "### <a href='./3_Vector_data.ipynb'>Previous</a> |"
   ]
  }
 ],
 "metadata": {
  "kernelspec": {
   "display_name": "IEOS2023",
   "language": "python",
   "name": "ieos2023"
  },
  "language_info": {
   "codemirror_mode": {
    "name": "ipython",
    "version": 3
   },
   "file_extension": ".py",
   "mimetype": "text/x-python",
   "name": "python",
   "nbconvert_exporter": "python",
   "pygments_lexer": "ipython3",
   "version": "3.11.6"
  }
 },
 "nbformat": 4,
 "nbformat_minor": 5
}
