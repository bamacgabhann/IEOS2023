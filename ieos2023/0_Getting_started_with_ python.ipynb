{
 "cells": [
  {
   "cell_type": "markdown",
   "id": "e6e7edbe-0732-4fae-8103-633772e3207e",
   "metadata": {},
   "source": [
    "# Getting Started with Python\n",
    "### Version Control, Virtual Environments, Package Management, and IDEs\n",
    "\n",
    "There's no _right_ way to do things, but there are _consistent_ ways to do things which will make things a little easier."
   ]
  },
  {
   "cell_type": "markdown",
   "id": "20f31c95-e5a5-47e4-bc88-41ef1cd56153",
   "metadata": {},
   "source": [
    "## 1. Version Control\n",
    "\n",
    "Where are you working? Office desktop? Maybe you've had an idea at home, and want to update something on a home PC. Or you're at a conference, and working on a laptop. Sure, you can use OneDrive or Dropbox, but admit it - how many times have you ended up with:  \n",
    "\n",
    "```document.docx  \n",
    "document2.docx  \n",
    "document3.docx  \n",
    "document3.rev1.docx  \n",
    "document_final.docx  \n",
    "document_final2.docx\n",
    "```\n",
    "\n",
    "There is a better way. \n",
    "\n",
    "Git is a cross-platform version control manager, which can do all your tracking and version histories for you. Github is an online platform which uses git, giving you an online remote repository for your work. Register for an account at https://github.com/, and for each project, set up a github repository to track your files. I also strongly recommend the github desktop app, if you're on Windows, even if using WSL (which I also recommend)."
   ]
  },
  {
   "cell_type": "markdown",
   "id": "95256a10-dea4-462a-9e19-5266a654866f",
   "metadata": {},
   "source": [
    "## 2. Virtual Environments\n",
    "\n",
    "Python is useful because has a huge number of packages written to do particular things, developed by thousands of different users. While that's a strength, it also comes with a problem, that these packages are reliant on volunteers to updates them - and they're not all maintained at the same rate. So, sometimes you'll have a project using Package A for Python 3.10 which relies on Package B; and another project using Package C, which relies on an ealier version of Package A for Python 3.6 and hasn't been updated yet. \n",
    "\n",
    "To avoid these conflicts, we can set up what are called _Virtual Environments_ for each project. A virtual environment will include a specific version of Python, and the specific versions of all the packages you need for that project, all stored in a single folder.\n",
    "\n",
    "There are several different tools to create virtual environments in Python, which may depend on which operating system you are using. These also often double as...."
   ]
  },
  {
   "cell_type": "markdown",
   "id": "ad1b295b-d1e7-44d8-b360-79e4e0d08256",
   "metadata": {},
   "source": [
    "## 3. Package Managers\n",
    "\n",
    "Handling the conflicts between dependencies of various packages could be a nightmare, but fortunately you don't have to do it for yourself. There are a number of tools for package management, often the same tools to create virtual environments since the two needs overlap.\n",
    "\n",
    "Which tool is the best for you will depend heavily on your personal preferences, needs, and workflow. Unfortunately, you don't usually know what those will be until you've been using Python for a while, but in order to use Python for a while first you need to have tools for virtual environments and package management. So you need to choose something before you're ready, and of course changing later can be awkward. \n",
    "\n",
    "I have actually very recently changed my workflow myself, and I'm still getting used to it. Until recently, I was using conda, which is a cross-platform all-in-one tool. Create a new environment with\n",
    "\n",
    "```conda create -name my-new-environment```\n",
    "\n",
    "Activate it with\n",
    "\n",
    "```conda activate my-new-environment```\n",
    "\n",
    "and install packages with\n",
    "\n",
    "```conda install package-name```\n",
    "\n",
    "If it works, it's very simple, and also comes with Anaconda Navigator as a GUI on Windows. However, conda installs packages from the conda default channel repository, not the PyPI core repository. Many packages aren't in the conda default channel, but are published to the conda-forge channel repository. Managing the version control through conda-forge has become, for me, a nightmare, which involved first migrating to the mamba package manager as an alternative to conda, and then giving up in frustration.\n",
    "\n",
    "I am now using ```pyenv``` for virtual environments, and ```poetry``` for package management. After installing these, my workflow now is:\n",
    "\n",
    "I first used pyenv to install a global python version:\n",
    "\n",
    "```pyenv global 3.11.6```  \n",
    "\n",
    "Using that version, I installed Jupyter Lab (we'll get to this in a sec) using pip, the default python package management tool and installer:\n",
    "\n",
    "```pip install jupyterlab```  \n",
    "\n",
    "Poetry can manage virtual environments, but I prefer to use pyenv, so I run\n",
    "\n",
    "```poetry config virtualenvs.create false```\n",
    "\n",
    "to allow me to use pyenv. Then for each project, I create a new virtual environment with pyenv. \n",
    "\n",
    "```pyenv virtualenv 3.12 my-new-project #3.12 is the version of python to use in the project, it can be whatever version you want```  \n",
    "```pyenv activate my-new-project```  \n",
    "\n",
    "Poetry will respect and use the pyenv environment, so it can handle all the package management for the environment:\n",
    "\n",
    "```poetry new my-new-project``` # if you already have a project, ```poetry init```\n",
    "```poetry add package1-name package2-name```  \n",
    "```poetry add --group dev black flake8 ipykernel```  \n",
    "\n",
    "I add those three in particular - black for code formatting, flake8 for linting (ie style and syntax), and ipykernel so I can use just my base instance of Jupyter Lab rather than needing a separate instance for each project. To finish this:\n",
    "\n",
    "```python -m ipykernel install --user --name my-new-project```\n",
    "\n",
    "Then I create a new empty github repository for the project, and associate it with my new project folder by running\n",
    "\n",
    "```git init```  \n",
    "```git remote add origin https://github.com/username/repository.git```\n",
    "\n",
    "To back up the directory to the remote repository, the process is add the contents, commit, and then push.\n",
    "\n",
    "```git add *```\n",
    "```git commit -m \"message explaining what's in the commit\"```\n",
    "```git push```\n",
    "\n",
    "Now you're set up, and ready to work."
   ]
  },
  {
   "cell_type": "markdown",
   "id": "d2fdb469-8db9-4b07-8f58-00dbbff056f9",
   "metadata": {},
   "source": [
    "## 4. IDEs\n",
    "\n",
    "But work in what? We need a program that we can edit python code in - really, that could be any text editor, since we're just editing text files.\n",
    "\n",
    "But we can do better than Notepad.\n",
    "\n",
    "Here, by far most python developers will recommend VS Code (https://code.visualstudio.com/), from Microsoft. Some will recommend PyCharm (https://www.jetbrains.com/pycharm/), from JetBrains. I'm in a minority, using the open source IDE Spyder (https://www.spyder-ide.org/). \n",
    "\n",
    "These IDEs are what you need when you're writing a full module, a piece of code intended to be run an executed completely.\n",
    "\n",
    "However, often it will be extremely useful to see the results of individual lines or short segments, and for that, we have Jupyter Notebooks.\n",
    "\n",
    "Jupyter Notebooks run in a browser window. They can include cells of text, and cells of code - and you can run the cells of code individually, with the results displayed inline. \n",
    "\n",
    "Installing Jupyter Lab in my base environment, and adding the ipykernel from each project to my base environment, means I can use one Jupyter installation and run notebooks from various projects in it.\n",
    "\n",
    "If you've installed python on a laptop, you can do this in this workshop. But there's also several online platforms which let you use Jupyter Notebooks online - Binder, and Google Colaboratory (https://colab.research.google.com). I've included links so that the notebooks for this workshop can be run in Google Colab.\n",
    "\n",
    "You can also clone the entire repository, and open them directly in Colab from your github account."
   ]
  },
  {
   "cell_type": "markdown",
   "id": "a4c7bc8a-da44-46c5-8b5e-d492bff7e4c9",
   "metadata": {},
   "source": [
    "## 5. For this workshop\n",
    "\n",
    "On github.com, clone this repository. \n",
    "\n",
    "Then, either use Google Colab to open the notebooks and work through the examples;\n",
    "\n",
    "or, on your own machine, clone your version of the repository, set up a virtual environment, and install the dependencies so you can run everything locally. If you follow the workflow above, you should be able to use poetry to install everything, but conda or pip can also be used."
   ]
  }
 ],
 "metadata": {
  "kernelspec": {
   "display_name": "IEOS2023",
   "language": "python",
   "name": "ieos2023"
  },
  "language_info": {
   "codemirror_mode": {
    "name": "ipython",
    "version": 3
   },
   "file_extension": ".py",
   "mimetype": "text/x-python",
   "name": "python",
   "nbconvert_exporter": "python",
   "pygments_lexer": "ipython3",
   "version": "3.11.6"
  }
 },
 "nbformat": 4,
 "nbformat_minor": 5
}
